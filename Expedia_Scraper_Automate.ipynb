{
 "cells": [
  {
   "cell_type": "code",
   "execution_count": 2,
   "metadata": {},
   "outputs": [],
   "source": [
    "from expedia_scraper import parse\n",
    "from datetime import datetime\n",
    "from datetime import timedelta  \n",
    "from random import randint\n",
    "from time import sleep\n",
    "from pandas import DataFrame\n",
    "from pandas import date_range\n",
    "import urllib3\n",
    "urllib3.disable_warnings(urllib3.exceptions.InsecureRequestWarning)"
   ]
  },
  {
   "cell_type": "code",
   "execution_count": 6,
   "metadata": {},
   "outputs": [],
   "source": [
    "def get_earliest_start_date(dow):    \n",
    "    start_date = datetime.today()\n",
    "    while start_date.weekday() != dow:\n",
    "        start_date += timedelta(days= 1)\n",
    "    return start_date\n",
    "def create_flights(source,dest,start_date,los):\n",
    "    flights = []    \n",
    "    for date in dates:\n",
    "        tup = (source, dest, format(date,'%d/%m/%Y'),format(date+ los,'%d/%m/%Y'))\n",
    "        flights.append(tup)\n",
    "    return flights"
   ]
  },
  {
   "cell_type": "code",
   "execution_count": 7,
   "metadata": {},
   "outputs": [],
   "source": [
    "start_date = get_earliest_start_date(3) #Start on thursday\n",
    "dates = date_range(start= start_date, periods = 4, freq = 'W', normalize = True,)\n",
    "flights = create_flights('SIN','HKG',get_earliest_start_date(3),4)"
   ]
  },
  {
   "cell_type": "code",
   "execution_count": 8,
   "metadata": {},
   "outputs": [
    {
     "name": "stdout",
     "output_type": "stream",
     "text": [
      "Doing 04/08/2019 to 01/09/2019 now...\n",
      "Sleeping for 9 seconds\n",
      "Doing 11/08/2019 to 08/09/2019 now...\n",
      "Sleeping for 8 seconds\n",
      "Doing 18/08/2019 to 15/09/2019 now...\n",
      "Sleeping for 6 seconds\n",
      "Doing 25/08/2019 to 22/09/2019 now...\n",
      "Sleeping for 6 seconds\n"
     ]
    }
   ],
   "source": [
    "results = []\n",
    "for flight, (source, destination,dateout,datein) in enumerate(flights):        \n",
    "    print(\"Doing {0} to {1} now...\".format(dateout,datein))\n",
    "    scrapes = parse(source, destination,dateout,datein)    \n",
    "    for scrape in scrapes:\n",
    "        scrape.update({'dateout': dateout,'datein':datein})\n",
    "    results.extend(scrapes)\n",
    "    #Random Sleep\n",
    "    pause = randint(1,10)\n",
    "    sleep(pause)    \n",
    "    print('Sleeping for ' + str(pause) + ' seconds')    "
   ]
  },
  {
   "cell_type": "code",
   "execution_count": 9,
   "metadata": {},
   "outputs": [],
   "source": [
    "#still needs work not sure why it requires 2 runs to work\n",
    "df = DataFrame(results)\n",
    "df['rownum'] = df['timings'].index.values.astype(int)\n",
    "df['dep_time'] = None\n",
    "df['arr_time'] = None"
   ]
  },
  {
   "cell_type": "code",
   "execution_count": 12,
   "metadata": {},
   "outputs": [],
   "source": [
    "try:\n",
    "    for i in df['rownum']:\n",
    "        df['dep_time'].iloc[i] = df['timings'][i][0]['departure_time']\n",
    "        df['arr_time'].iloc[i] = df['timings'][i][-1]['arrival_time'] \n",
    "except:\n",
    "    try:\n",
    "        for i in df['rownum']:\n",
    "            df['dep_time'].iloc[i] = df['timings'][i][0]['departure_time']\n",
    "            df['arr_time'].iloc[i] = df['timings'][i][-1]['arrival_time'] \n",
    "    except:\n",
    "        pass"
   ]
  },
  {
   "cell_type": "code",
   "execution_count": 14,
   "metadata": {},
   "outputs": [],
   "source": [
    "#Send to PG_SQL:\n",
    "#Backup\n",
    "df.to_csv(\"C:\\\\Users\\\\User\\\\Documents\\\\GitHub\\\\Expedia-Scraper\\\\{0}_SIN_to_HKG.csv\".format(datetime.now().strftime(\"%Y_%m_%d\")))"
   ]
  },
  {
   "cell_type": "code",
   "execution_count": null,
   "metadata": {},
   "outputs": [],
   "source": []
  }
 ],
 "metadata": {
  "kernelspec": {
   "display_name": "Python 3",
   "language": "python",
   "name": "python3"
  },
  "language_info": {
   "codemirror_mode": {
    "name": "ipython",
    "version": 3
   },
   "file_extension": ".py",
   "mimetype": "text/x-python",
   "name": "python",
   "nbconvert_exporter": "python",
   "pygments_lexer": "ipython3",
   "version": "3.7.1"
  }
 },
 "nbformat": 4,
 "nbformat_minor": 2
}
